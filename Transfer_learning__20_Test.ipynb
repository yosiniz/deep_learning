{
  "cells": [
    {
      "cell_type": "code",
      "execution_count": 1,
      "metadata": {
        "colab": {
          "base_uri": "https://localhost:8080/"
        },
        "id": "gEv-NjbEPizw",
        "outputId": "2e9a8910-0845-43ad-872c-6a979111e534"
      },
      "outputs": [
        {
          "output_type": "stream",
          "name": "stdout",
          "text": [
            "Mounted at /gdrive\n"
          ]
        }
      ],
      "source": [
        "from google.colab import drive\n",
        "drive.mount('/gdrive')"
      ]
    },
    {
      "cell_type": "code",
      "execution_count": 2,
      "metadata": {
        "id": "b2PnJ2NkPmov"
      },
      "outputs": [],
      "source": [
        "import numpy as np # linear algebra\n",
        "import pandas as pd # data processing, CSV file I/O (e.g. pd.read_csv)\n",
        "import matplotlib.pyplot as plt\n",
        "import seaborn as sns\n",
        "import glob\n",
        "import cv2\n",
        "import os\n"
      ]
    },
    {
      "cell_type": "code",
      "execution_count": 3,
      "metadata": {
        "colab": {
          "base_uri": "https://localhost:8080/"
        },
        "id": "PAjIGZREPofW",
        "outputId": "8342d88f-ab98-4769-c86c-8410486ffa5b"
      },
      "outputs": [
        {
          "output_type": "stream",
          "name": "stdout",
          "text": [
            "['Tumor', 'Normal']\n"
          ]
        }
      ],
      "source": [
        "print(os.listdir(\"/gdrive/My Drive/Kidney Cancer\"))"
      ]
    },
    {
      "cell_type": "code",
      "execution_count": 4,
      "metadata": {
        "id": "E9ml9toMPpkV"
      },
      "outputs": [],
      "source": [
        "DATADIR = \"/gdrive/My Drive/Kidney Cancer\"\n",
        "\n",
        "CATEGORIES = [\"Normal\",\"Tumor\"]"
      ]
    },
    {
      "cell_type": "code",
      "execution_count": 5,
      "metadata": {
        "id": "ZM-0CtrmPvRa"
      },
      "outputs": [],
      "source": [
        "IMG_SIZE = 100"
      ]
    },
    {
      "cell_type": "code",
      "execution_count": 6,
      "metadata": {
        "id": "9QqTDHpmPqpe"
      },
      "outputs": [],
      "source": [
        "all_data = []\n",
        "\n",
        "def create_all_data():\n",
        "    for category in CATEGORIES:\n",
        "        path = os.path.join(DATADIR, category)\n",
        "        class_num = CATEGORIES.index(category)\n",
        "        for img in os.listdir(path):\n",
        "            try:\n",
        "                img_array = cv2.imread(os.path.join(path, img), cv2.IMREAD_GRAYSCALE)\n",
        "                new_array = cv2.resize(img_array, (IMG_SIZE, IMG_SIZE))\n",
        "                all_data.append([new_array, class_num])\n",
        "            except Exception as e:\n",
        "                pass\n",
        "\n",
        "create_all_data()\n"
      ]
    },
    {
      "cell_type": "code",
      "execution_count": 7,
      "metadata": {
        "colab": {
          "base_uri": "https://localhost:8080/"
        },
        "id": "3Xio15YEPzCC",
        "outputId": "3696225b-3460-4581-d8c9-8d05c01b0813"
      },
      "outputs": [
        {
          "output_type": "stream",
          "name": "stdout",
          "text": [
            "Toplam Görüntü Sayısı:  10000\n"
          ]
        }
      ],
      "source": [
        "print(\"Toplam Görüntü Sayısı: \", len(all_data))"
      ]
    },
    {
      "cell_type": "code",
      "execution_count": 8,
      "metadata": {
        "id": "Y-XlIaDvP2kl"
      },
      "outputs": [],
      "source": [
        "X = []\n",
        "y = []\n",
        "\n",
        "for categories, label in all_data:\n",
        "  X.append(categories)\n",
        "  y.append(label)"
      ]
    },
    {
      "cell_type": "code",
      "execution_count": 9,
      "metadata": {
        "id": "kOzzMpnbP6UP"
      },
      "outputs": [],
      "source": [
        "\n",
        "from sklearn.model_selection import train_test_split\n",
        "\n",
        "x_train, x_test, y_train, y_test = train_test_split(X, y, test_size=0.20, random_state =42)\n",
        "\n",
        "x_train, x_val, y_train, y_val = train_test_split(x_train, y_train, test_size=0.10, random_state=42)"
      ]
    },
    {
      "cell_type": "code",
      "execution_count": 10,
      "metadata": {
        "id": "XAnoG0fuP7aN"
      },
      "outputs": [],
      "source": [
        "x_train = np.array(x_train)\n",
        "x_test = np.array(x_test)\n",
        "\n",
        "y_train = np.array(y_train)\n",
        "y_test = np.array(y_test)\n",
        "\n",
        "x_val = np.array(x_val)\n",
        "y_val = np.array(y_val)"
      ]
    },
    {
      "cell_type": "code",
      "execution_count": 11,
      "metadata": {
        "colab": {
          "base_uri": "https://localhost:8080/"
        },
        "id": "31dLl0EyP-QT",
        "outputId": "5da594db-d4a7-4a1b-8d85-c45d4241c280"
      },
      "outputs": [
        {
          "output_type": "stream",
          "name": "stdout",
          "text": [
            "(7200, 100, 100)\n",
            "(2000, 100, 100)\n",
            "(800, 100, 100)\n",
            "(7200,)\n",
            "(2000,)\n",
            "(800,)\n"
          ]
        }
      ],
      "source": [
        "print(x_train.shape)\n",
        "print(x_test.shape)\n",
        "print(x_val.shape)\n",
        "\n",
        "print(y_train.shape)\n",
        "print(y_test.shape)\n",
        "print(y_val.shape)"
      ]
    },
    {
      "cell_type": "code",
      "execution_count": 12,
      "metadata": {
        "id": "zlo7b0npUvTi"
      },
      "outputs": [],
      "source": [
        "x_train = np.expand_dims(x_train, axis=-1)\n",
        "x_val = np.expand_dims(x_val, axis=-1)\n",
        "x_test = np.expand_dims(x_test, axis=-1)\n",
        "\n",
        "x_train = np.repeat(x_train, 3, axis=-1)\n",
        "x_val = np.repeat(x_val, 3, axis=-1)\n",
        "x_test = np.repeat(x_test, 3, axis=-1)"
      ]
    },
    {
      "cell_type": "code",
      "execution_count": 13,
      "metadata": {
        "id": "uWdx5Q-IUw3r"
      },
      "outputs": [],
      "source": [
        "x_train = x_train.astype('float32')\n",
        "x_val = x_val.astype('float32')\n",
        "x_test = x_test.astype('float32')"
      ]
    },
    {
      "cell_type": "code",
      "execution_count": 14,
      "metadata": {
        "id": "gwN489bFQdEL"
      },
      "outputs": [],
      "source": [
        "import tensorflow as tf\n",
        "\n",
        "train_yCl = tf.keras.utils.to_categorical(y_train, num_classes=2)\n",
        "test_yCl = tf.keras.utils.to_categorical(y_test, num_classes=2)\n",
        "valid_yCl = tf.keras.utils.to_categorical(y_val, num_classes=2)"
      ]
    },
    {
      "cell_type": "code",
      "execution_count": 15,
      "metadata": {
        "id": "lRpTwgd3Qgwq"
      },
      "outputs": [],
      "source": [
        "from keras.layers import Input, Dense, Activation, BatchNormalization, Flatten, Conv2D, MaxPooling2D, Dropout\n",
        "from keras.models import Sequential"
      ]
    },
    {
      "cell_type": "code",
      "execution_count": 16,
      "metadata": {
        "id": "Q7pSyjF7QiOp",
        "colab": {
          "base_uri": "https://localhost:8080/"
        },
        "outputId": "3a3730ff-7f19-49b6-a245-a437c41dee8a"
      },
      "outputs": [
        {
          "output_type": "stream",
          "name": "stdout",
          "text": [
            "Downloading data from https://storage.googleapis.com/tensorflow/keras-applications/resnet/resnet50v2_weights_tf_dim_ordering_tf_kernels_notop.h5\n",
            "94668760/94668760 [==============================] - 0s 0us/step\n"
          ]
        }
      ],
      "source": [
        "res = tf.keras.applications.ResNet50V2(\n",
        "    input_shape=(100, 100, 3),\n",
        "    include_top = False\n",
        ")"
      ]
    },
    {
      "cell_type": "code",
      "execution_count": 17,
      "metadata": {
        "id": "PCXdODLCQx3b"
      },
      "outputs": [],
      "source": [
        "res_model = Sequential()\n",
        "res_model.add(res)\n",
        "res_model.add(Dropout(0.25))\n",
        "res_model.add(MaxPooling2D())\n",
        "res_model.add(Flatten())\n",
        "res_model.add(Dense(256, activation='relu'))\n",
        "res_model.add(BatchNormalization())\n",
        "res_model.add(Dropout(0.5))\n",
        "res_model.add(Dense(2, activation='softmax'))"
      ]
    },
    {
      "cell_type": "code",
      "execution_count": 18,
      "metadata": {
        "id": "IUuf9eeVSBL6"
      },
      "outputs": [],
      "source": [
        "res_model.compile(loss='categorical_crossentropy', optimizer='adam', metrics=['accuracy'])"
      ]
    },
    {
      "cell_type": "code",
      "execution_count": 19,
      "metadata": {
        "colab": {
          "base_uri": "https://localhost:8080/"
        },
        "id": "gb2XyfCHSDaG",
        "outputId": "27073ae4-8552-48d8-9f37-6f62b11201dd"
      },
      "outputs": [
        {
          "output_type": "stream",
          "name": "stdout",
          "text": [
            "Epoch 1/10\n",
            "60/60 [==============================] - 1589s 26s/step - loss: 0.1468 - accuracy: 0.9542 - val_loss: 2.1519 - val_accuracy: 0.6350\n",
            "Epoch 2/10\n",
            "60/60 [==============================] - 1511s 25s/step - loss: 0.0027 - accuracy: 0.9993 - val_loss: 3.9930 - val_accuracy: 0.7262\n",
            "Epoch 3/10\n",
            "60/60 [==============================] - 1523s 25s/step - loss: 0.0112 - accuracy: 0.9962 - val_loss: 0.0380 - val_accuracy: 0.9875\n",
            "Epoch 4/10\n",
            "60/60 [==============================] - 1541s 26s/step - loss: 0.0077 - accuracy: 0.9978 - val_loss: 0.9400 - val_accuracy: 0.8850\n",
            "Epoch 5/10\n",
            "60/60 [==============================] - 1551s 26s/step - loss: 0.0066 - accuracy: 0.9986 - val_loss: 0.8086 - val_accuracy: 0.8512\n",
            "Epoch 6/10\n",
            "60/60 [==============================] - 1544s 26s/step - loss: 0.0135 - accuracy: 0.9964 - val_loss: 0.2352 - val_accuracy: 0.9337\n",
            "Epoch 7/10\n",
            "60/60 [==============================] - 1541s 26s/step - loss: 0.0052 - accuracy: 0.9985 - val_loss: 0.0030 - val_accuracy: 0.9975\n",
            "Epoch 8/10\n",
            "60/60 [==============================] - 1545s 26s/step - loss: 0.0043 - accuracy: 0.9986 - val_loss: 0.1819 - val_accuracy: 0.9413\n",
            "Epoch 9/10\n",
            "60/60 [==============================] - 1538s 26s/step - loss: 5.4291e-04 - accuracy: 0.9999 - val_loss: 0.0013 - val_accuracy: 0.9987\n",
            "Epoch 10/10\n",
            "60/60 [==============================] - 1533s 26s/step - loss: 6.9318e-05 - accuracy: 1.0000 - val_loss: 8.8543e-05 - val_accuracy: 1.0000\n"
          ]
        }
      ],
      "source": [
        "history = res_model.fit(x_train, train_yCl,\n",
        "                        batch_size=120,\n",
        "                        epochs=10,\n",
        "                        validation_data=(x_val, valid_yCl))"
      ]
    },
    {
      "cell_type": "code",
      "source": [
        "score_valid = res_model.evaluate(x_val, valid_yCl)\n",
        "print(\"Validation Accuracy: \", score_valid[1])\n",
        "\n",
        "score_test = res_model.evaluate(x_test, test_yCl)\n",
        "print(\"Test Accuracy: \", score_test[1])\n",
        "\n",
        "score_train = res_model.evaluate(x_train, train_yCl)\n",
        "print(\"Train Accuracy: \", score_train[1])"
      ],
      "metadata": {
        "colab": {
          "base_uri": "https://localhost:8080/"
        },
        "id": "uSXTLNkyG8HI",
        "outputId": "3b753ea1-e835-4322-f2b9-a9337db97768"
      },
      "execution_count": 20,
      "outputs": [
        {
          "output_type": "stream",
          "name": "stdout",
          "text": [
            "25/25 [==============================] - 59s 2s/step - loss: 8.8543e-05 - accuracy: 1.0000\n",
            "Validation Accuracy:  1.0\n",
            "63/63 [==============================] - 88s 1s/step - loss: 0.0033 - accuracy: 0.9990\n",
            "Test Accuracy:  0.9990000128746033\n",
            "225/225 [==============================] - 294s 1s/step - loss: 1.0471e-04 - accuracy: 1.0000\n",
            "Train Accuracy:  1.0\n"
          ]
        }
      ]
    },
    {
      "cell_type": "code",
      "source": [
        "from sklearn.metrics import accuracy_score, precision_score, recall_score, f1_score, classification_report, confusion_matrix\n",
        "\n",
        "# Test verisi üzerinde tahminlerde bulunun\n",
        "y_pred_probs = res_model.predict(x_test)\n",
        "y_pred_classes = np.argmax(y_pred_probs, axis=1)\n",
        "\n",
        "# Gerçek sınıfları alın\n",
        "y_true_classes = np.argmax(test_yCl, axis=1)\n",
        "\n",
        "# Accuracy\n",
        "accuracy = accuracy_score(y_true_classes, y_pred_classes)\n",
        "print(f\"Accuracy: {accuracy}\")\n",
        "\n",
        "# Precision\n",
        "precision = precision_score(y_true_classes, y_pred_classes, average='weighted')\n",
        "print(f\"Precision: {precision}\")\n",
        "\n",
        "# Recall\n",
        "recall = recall_score(y_true_classes, y_pred_classes, average='weighted')\n",
        "print(f\"Recall: {recall}\")\n",
        "\n",
        "# F1 Score\n",
        "f1 = f1_score(y_true_classes, y_pred_classes, average='weighted')\n",
        "print(f\"F1-Score: {f1}\")\n",
        "\n",
        "# Classification Report\n",
        "print(\"Classification Report:\")\n",
        "print(classification_report(y_true_classes, y_pred_classes))\n",
        "\n",
        "# Confusion Matrix\n",
        "cm = confusion_matrix(y_true_classes, y_pred_classes)\n",
        "print(\"Confusion Matrix:\")\n",
        "print(cm)\n"
      ],
      "metadata": {
        "colab": {
          "base_uri": "https://localhost:8080/"
        },
        "id": "EYhTmuCCHDs2",
        "outputId": "d83ce42e-103c-445a-f0de-3aac9483ddd3"
      },
      "execution_count": 21,
      "outputs": [
        {
          "output_type": "stream",
          "name": "stdout",
          "text": [
            "63/63 [==============================] - 88s 1s/step\n",
            "Accuracy: 0.999\n",
            "Precision: 0.999\n",
            "Recall: 0.999\n",
            "F1-Score: 0.999\n",
            "Classification Report:\n",
            "              precision    recall  f1-score   support\n",
            "\n",
            "           0       1.00      1.00      1.00      1012\n",
            "           1       1.00      1.00      1.00       988\n",
            "\n",
            "    accuracy                           1.00      2000\n",
            "   macro avg       1.00      1.00      1.00      2000\n",
            "weighted avg       1.00      1.00      1.00      2000\n",
            "\n",
            "Confusion Matrix:\n",
            "[[1011    1]\n",
            " [   1  987]]\n"
          ]
        }
      ]
    },
    {
      "cell_type": "code",
      "source": [
        "from sklearn.metrics import confusion_matrix\n",
        "import seaborn as sns\n",
        "import matplotlib.pyplot as plt\n",
        "\n",
        "cm = confusion_matrix(y_true_classes, y_pred_classes)\n",
        "sns.heatmap(cm, annot=True, fmt=\"d\", cmap=\"Blues\", xticklabels=CATEGORIES, yticklabels=CATEGORIES)\n",
        "plt.title(\"Confusion Matrix\")\n",
        "plt.xlabel(\"Predicted\")\n",
        "plt.ylabel(\"True\")\n",
        "plt.show()\n"
      ],
      "metadata": {
        "colab": {
          "base_uri": "https://localhost:8080/",
          "height": 472
        },
        "id": "OMTIPPT0HGVX",
        "outputId": "ee413bf4-1df5-4aed-8de3-2ed04aec5b48"
      },
      "execution_count": 22,
      "outputs": [
        {
          "output_type": "display_data",
          "data": {
            "text/plain": [
              "<Figure size 640x480 with 2 Axes>"
            ],
            "image/png": "[encoded data removed]"
          },
          "metadata": {}
        }
      ]
    }
  ],
  "metadata": {
    "colab": {
      "provenance": []
    },
    "kernelspec": {
      "display_name": "Python 3",
      "name": "python3"
    },
    "language_info": {
      "name": "python"
    }
  },
  "nbformat": 4,
  "nbformat_minor": 0
}