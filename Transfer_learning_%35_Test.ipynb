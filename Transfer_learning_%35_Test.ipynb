{
  "nbformat": 4,
  "nbformat_minor": 0,
  "metadata": {
    "colab": {
      "provenance": []
    },
    "kernelspec": {
      "name": "python3",
      "display_name": "Python 3"
    },
    "language_info": {
      "name": "python"
    }
  },
  "cells": [
    {
      "cell_type": "code",
      "execution_count": 1,
      "metadata": {
        "colab": {
          "base_uri": "https://localhost:8080/"
        },
        "id": "_fcpPDgLLKkc",
        "outputId": "8a585ca3-4184-47bb-e9f8-9bf854ceb94d"
      },
      "outputs": [
        {
          "output_type": "stream",
          "name": "stdout",
          "text": [
            "Mounted at /content/drive\n"
          ]
        }
      ],
      "source": [
        "from google.colab import drive\n",
        "drive.mount('/content/drive')"
      ]
    },
    {
      "cell_type": "code",
      "source": [
        "import numpy as np # linear algebra\n",
        "import pandas as pd # data processing, CSV file I/O (e.g. pd.read_csv)\n",
        "import matplotlib.pyplot as plt\n",
        "import seaborn as sns\n",
        "import glob\n",
        "import cv2\n",
        "import os"
      ],
      "metadata": {
        "id": "WTlzDLN6LQ-4"
      },
      "execution_count": 2,
      "outputs": []
    },
    {
      "cell_type": "code",
      "source": [
        "print(os.listdir(\"/content/drive/MyDrive/Kidney Cancer\"))"
      ],
      "metadata": {
        "colab": {
          "base_uri": "https://localhost:8080/"
        },
        "id": "SxF1uQXzLi8Y",
        "outputId": "993006e6-4f7d-4750-fbe4-eedd9ca1f9d3"
      },
      "execution_count": 3,
      "outputs": [
        {
          "output_type": "stream",
          "name": "stdout",
          "text": [
            "['Tumor', 'Normal']\n"
          ]
        }
      ]
    },
    {
      "cell_type": "code",
      "source": [
        "DATADIR = \"/content/drive/MyDrive/Kidney Cancer\"\n",
        "\n",
        "CATEGORIES = [\"Normal\",\"Tumor\"]"
      ],
      "metadata": {
        "id": "zkupeidwLwwW"
      },
      "execution_count": 4,
      "outputs": []
    },
    {
      "cell_type": "code",
      "source": [
        "IMG_SIZE = 100"
      ],
      "metadata": {
        "id": "8FbUeYwGL08o"
      },
      "execution_count": 5,
      "outputs": []
    },
    {
      "cell_type": "code",
      "source": [
        "all_data = []\n",
        "\n",
        "def create_all_data():\n",
        "    for category in CATEGORIES:\n",
        "        path = os.path.join(DATADIR, category)\n",
        "        class_num = CATEGORIES.index(category)\n",
        "        for img in os.listdir(path):\n",
        "            try:\n",
        "                img_array = cv2.imread(os.path.join(path, img), cv2.IMREAD_GRAYSCALE)\n",
        "                new_array = cv2.resize(img_array, (IMG_SIZE, IMG_SIZE))\n",
        "                all_data.append([new_array, class_num])\n",
        "            except Exception as e:\n",
        "                pass\n",
        "\n",
        "create_all_data()"
      ],
      "metadata": {
        "id": "5o7d124JL3ph"
      },
      "execution_count": 6,
      "outputs": []
    },
    {
      "cell_type": "code",
      "source": [
        "print(\"Toplam Görüntü Sayısı: \", len(all_data))"
      ],
      "metadata": {
        "colab": {
          "base_uri": "https://localhost:8080/"
        },
        "id": "XgGfGV94L612",
        "outputId": "dddb4706-1d3a-41c8-cf6f-b4dcc907423f"
      },
      "execution_count": 7,
      "outputs": [
        {
          "output_type": "stream",
          "name": "stdout",
          "text": [
            "Toplam Görüntü Sayısı:  10000\n"
          ]
        }
      ]
    },
    {
      "cell_type": "code",
      "source": [
        "X = []\n",
        "y = []\n",
        "\n",
        "for categories, label in all_data:\n",
        "  X.append(categories)\n",
        "  y.append(label)"
      ],
      "metadata": {
        "id": "UFsBwWq7L8aN"
      },
      "execution_count": 8,
      "outputs": []
    },
    {
      "cell_type": "code",
      "source": [
        "from sklearn.model_selection import train_test_split\n",
        "\n",
        "x_train, x_test, y_train, y_test = train_test_split(X, y, test_size=0.35, random_state =42)\n",
        "\n",
        "x_train, x_val, y_train, y_val = train_test_split(x_train, y_train, test_size=0.10, random_state=42)"
      ],
      "metadata": {
        "id": "JWOeUPDeMCmF"
      },
      "execution_count": 9,
      "outputs": []
    },
    {
      "cell_type": "code",
      "source": [
        "x_train = np.array(x_train)\n",
        "x_test = np.array(x_test)\n",
        "\n",
        "y_train = np.array(y_train)\n",
        "y_test = np.array(y_test)\n",
        "\n",
        "x_val = np.array(x_val)\n",
        "y_val = np.array(y_val)"
      ],
      "metadata": {
        "id": "xrHy_18AMDK6"
      },
      "execution_count": 10,
      "outputs": []
    },
    {
      "cell_type": "code",
      "source": [
        "print(x_train.shape)\n",
        "print(x_test.shape)\n",
        "print(x_val.shape)\n",
        "\n",
        "print(y_train.shape)\n",
        "print(y_test.shape)\n",
        "print(y_val.shape)"
      ],
      "metadata": {
        "colab": {
          "base_uri": "https://localhost:8080/"
        },
        "id": "H5inJFYPME_C",
        "outputId": "c5add2c9-6067-4ddd-c5ff-316fb49e21bf"
      },
      "execution_count": 11,
      "outputs": [
        {
          "output_type": "stream",
          "name": "stdout",
          "text": [
            "(5850, 100, 100)\n",
            "(3500, 100, 100)\n",
            "(650, 100, 100)\n",
            "(5850,)\n",
            "(3500,)\n",
            "(650,)\n"
          ]
        }
      ]
    },
    {
      "cell_type": "code",
      "source": [
        "x_train = np.expand_dims(x_train, axis=-1)\n",
        "x_val = np.expand_dims(x_val, axis=-1)\n",
        "x_test = np.expand_dims(x_test, axis=-1)\n",
        "\n",
        "x_train = np.repeat(x_train, 3, axis=-1)\n",
        "x_val = np.repeat(x_val, 3, axis=-1)\n",
        "x_test = np.repeat(x_test, 3, axis=-1)"
      ],
      "metadata": {
        "id": "FWhILaFdMFCB"
      },
      "execution_count": 12,
      "outputs": []
    },
    {
      "cell_type": "code",
      "source": [
        "x_train = x_train.astype('float32')\n",
        "x_val = x_val.astype('float32')\n",
        "x_test = x_test.astype('float32')"
      ],
      "metadata": {
        "id": "ujfv_aYBMFE0"
      },
      "execution_count": 13,
      "outputs": []
    },
    {
      "cell_type": "code",
      "source": [
        "import tensorflow as tf\n",
        "\n",
        "train_yCl = tf.keras.utils.to_categorical(y_train, num_classes=2)\n",
        "test_yCl = tf.keras.utils.to_categorical(y_test, num_classes=2)\n",
        "valid_yCl = tf.keras.utils.to_categorical(y_val, num_classes=2)"
      ],
      "metadata": {
        "id": "_GbuwDvtMKFr"
      },
      "execution_count": 14,
      "outputs": []
    },
    {
      "cell_type": "code",
      "source": [
        "from keras.layers import Input, Dense, Activation, BatchNormalization, Flatten, Conv2D, MaxPooling2D, Dropout\n",
        "from keras.models import Sequential"
      ],
      "metadata": {
        "id": "WgG3pm1eMKIj"
      },
      "execution_count": 15,
      "outputs": []
    },
    {
      "cell_type": "code",
      "source": [
        "res = tf.keras.applications.ResNet50V2(\n",
        "    input_shape=(100, 100, 3),\n",
        "    include_top = False\n",
        ")"
      ],
      "metadata": {
        "colab": {
          "base_uri": "https://localhost:8080/"
        },
        "id": "M27Xy6MXMKLl",
        "outputId": "370cf19d-3b57-4a14-f06b-7e708d98b82f"
      },
      "execution_count": 16,
      "outputs": [
        {
          "output_type": "stream",
          "name": "stdout",
          "text": [
            "Downloading data from https://storage.googleapis.com/tensorflow/keras-applications/resnet/resnet50v2_weights_tf_dim_ordering_tf_kernels_notop.h5\n",
            "94668760/94668760 [==============================] - 1s 0us/step\n"
          ]
        }
      ]
    },
    {
      "cell_type": "code",
      "source": [
        "res_model = Sequential()\n",
        "res_model.add(res)\n",
        "res_model.add(Dropout(0.25))\n",
        "res_model.add(MaxPooling2D())\n",
        "res_model.add(Flatten())\n",
        "res_model.add(Dense(256, activation='relu'))\n",
        "res_model.add(BatchNormalization())\n",
        "res_model.add(Dropout(0.5))\n",
        "res_model.add(Dense(2, activation='softmax'))"
      ],
      "metadata": {
        "id": "Snjc5VGTMT1x"
      },
      "execution_count": 17,
      "outputs": []
    },
    {
      "cell_type": "code",
      "source": [
        "res_model.compile(loss='categorical_crossentropy', optimizer='adam', metrics=['accuracy'])"
      ],
      "metadata": {
        "id": "WFJGKVbAMYdb"
      },
      "execution_count": 18,
      "outputs": []
    },
    {
      "cell_type": "code",
      "source": [
        "history = res_model.fit(x_train, train_yCl,\n",
        "                        batch_size=120,\n",
        "                        epochs=10,\n",
        "                        validation_data=(x_val, valid_yCl))"
      ],
      "metadata": {
        "colab": {
          "base_uri": "https://localhost:8080/"
        },
        "id": "qcVa0FcnMatP",
        "outputId": "c77cfc41-4747-4a97-9ead-99f24485c983"
      },
      "execution_count": 19,
      "outputs": [
        {
          "output_type": "stream",
          "name": "stdout",
          "text": [
            "Epoch 1/10\n",
            "49/49 [==============================] - 1105s 22s/step - loss: 0.1509 - accuracy: 0.9533 - val_loss: 4.6627 - val_accuracy: 0.7477\n",
            "Epoch 2/10\n",
            "49/49 [==============================] - 1088s 22s/step - loss: 0.0116 - accuracy: 0.9962 - val_loss: 2.0676 - val_accuracy: 0.8369\n",
            "Epoch 3/10\n",
            "49/49 [==============================] - 1066s 22s/step - loss: 0.0093 - accuracy: 0.9964 - val_loss: 0.1080 - val_accuracy: 0.9846\n",
            "Epoch 4/10\n",
            "49/49 [==============================] - 1065s 22s/step - loss: 0.0022 - accuracy: 0.9995 - val_loss: 0.0131 - val_accuracy: 0.9969\n",
            "Epoch 5/10\n",
            "49/49 [==============================] - 1055s 22s/step - loss: 0.0083 - accuracy: 0.9971 - val_loss: 0.0496 - val_accuracy: 0.9954\n",
            "Epoch 6/10\n",
            "49/49 [==============================] - 1067s 22s/step - loss: 0.0018 - accuracy: 0.9997 - val_loss: 5.6435e-05 - val_accuracy: 1.0000\n",
            "Epoch 7/10\n",
            "49/49 [==============================] - 1069s 22s/step - loss: 9.4533e-04 - accuracy: 0.9995 - val_loss: 0.0355 - val_accuracy: 0.9862\n",
            "Epoch 8/10\n",
            "49/49 [==============================] - 1068s 22s/step - loss: 0.0298 - accuracy: 0.9916 - val_loss: 13.7449 - val_accuracy: 0.5554\n",
            "Epoch 9/10\n",
            "49/49 [==============================] - 1060s 22s/step - loss: 0.0077 - accuracy: 0.9968 - val_loss: 1.7270 - val_accuracy: 0.7354\n",
            "Epoch 10/10\n",
            "49/49 [==============================] - 1019s 21s/step - loss: 0.0033 - accuracy: 0.9995 - val_loss: 0.0011 - val_accuracy: 1.0000\n"
          ]
        }
      ]
    },
    {
      "cell_type": "code",
      "source": [
        "score_valid = res_model.evaluate(x_val, valid_yCl)\n",
        "print(\"Validation Accuracy: \", score_valid[1])\n",
        "\n",
        "score_test = res_model.evaluate(x_test, test_yCl)\n",
        "print(\"Test Accuracy: \", score_test[1])\n",
        "\n",
        "score_train = res_model.evaluate(x_train, train_yCl)\n",
        "print(\"Train Accuracy: \",score_train[1])"
      ],
      "metadata": {
        "colab": {
          "base_uri": "https://localhost:8080/"
        },
        "id": "T_atLeWx42tJ",
        "outputId": "a9b6ec48-4263-4171-8390-a4497efc5bfc"
      },
      "execution_count": 21,
      "outputs": [
        {
          "output_type": "stream",
          "name": "stdout",
          "text": [
            "21/21 [==============================] - 23s 1s/step - loss: 0.0011 - accuracy: 1.0000\n",
            "Validation Accuracy:  1.0\n",
            "110/110 [==============================] - 121s 1s/step - loss: 0.0024 - accuracy: 0.9989\n",
            "Test Accuracy:  0.9988571405410767\n",
            "183/183 [==============================] - 194s 1s/step - loss: 0.0013 - accuracy: 0.9997\n",
            "Train Accuracy:  0.9996581077575684\n"
          ]
        }
      ]
    },
    {
      "cell_type": "code",
      "source": [
        "from sklearn.metrics import accuracy_score, precision_score, recall_score, f1_score, classification_report, confusion_matrix\n",
        "\n",
        "# Test verisi üzerinde tahminlerde bulunun\n",
        "y_pred_probs = res_model.predict(x_test)\n",
        "y_pred_classes = np.argmax(y_pred_probs, axis=1)\n",
        "\n",
        "# Gerçek sınıfları alın\n",
        "y_true_classes = np.argmax(test_yCl, axis=1)\n",
        "\n",
        "# Accuracy\n",
        "accuracy = accuracy_score(y_true_classes, y_pred_classes)\n",
        "print(f\"Accuracy: {accuracy}\")\n",
        "\n",
        "# Precision\n",
        "precision = precision_score(y_true_classes, y_pred_classes, average='weighted')\n",
        "print(f\"Precision: {precision}\")\n",
        "\n",
        "# Recall\n",
        "recall = recall_score(y_true_classes, y_pred_classes, average='weighted')\n",
        "print(f\"Recall: {recall}\")\n",
        "\n",
        "# F1 Score\n",
        "f1 = f1_score(y_true_classes, y_pred_classes, average='weighted')\n",
        "print(f\"F1-Score: {f1}\")\n",
        "\n",
        "# Classification Report\n",
        "print(\"Classification Report:\")\n",
        "print(classification_report(y_true_classes, y_pred_classes))\n",
        "\n",
        "# Confusion Matrix\n",
        "cm = confusion_matrix(y_true_classes, y_pred_classes)\n",
        "print(\"Confusion Matrix:\")\n",
        "print(cm)"
      ],
      "metadata": {
        "colab": {
          "base_uri": "https://localhost:8080/"
        },
        "id": "sCspBoM460d2",
        "outputId": "d0ad018d-998b-4cb3-91f9-b424ce5edd93"
      },
      "execution_count": 23,
      "outputs": [
        {
          "output_type": "stream",
          "name": "stdout",
          "text": [
            "110/110 [==============================] - 130s 1s/step\n",
            "Accuracy: 0.9988571428571429\n",
            "Precision: 0.9988598037585231\n",
            "Recall: 0.9988571428571429\n",
            "F1-Score: 0.9988571682428183\n",
            "Classification Report:\n",
            "              precision    recall  f1-score   support\n",
            "\n",
            "           0       1.00      1.00      1.00      1786\n",
            "           1       1.00      1.00      1.00      1714\n",
            "\n",
            "    accuracy                           1.00      3500\n",
            "   macro avg       1.00      1.00      1.00      3500\n",
            "weighted avg       1.00      1.00      1.00      3500\n",
            "\n",
            "Confusion Matrix:\n",
            "[[1782    4]\n",
            " [   0 1714]]\n"
          ]
        }
      ]
    },
    {
      "cell_type": "code",
      "source": [
        "from sklearn.metrics import confusion_matrix\n",
        "import seaborn as sns\n",
        "import matplotlib.pyplot as plt\n",
        "\n",
        "cm = confusion_matrix(y_true_classes, y_pred_classes)\n",
        "sns.heatmap(cm, annot=True, fmt=\"d\", cmap=\"Blues\", xticklabels=CATEGORIES, yticklabels=CATEGORIES)\n",
        "plt.title(\"Confusion Matrix\")\n",
        "plt.xlabel(\"Predicted\")\n",
        "plt.ylabel(\"True\")\n",
        "plt.show()"
      ],
      "metadata": {
        "colab": {
          "base_uri": "https://localhost:8080/",
          "height": 472
        },
        "id": "uloeN4lU689Q",
        "outputId": "9ed78309-5c57-4419-eb5a-90c7e3d5ebec"
      },
      "execution_count": 24,
      "outputs": [
        {
          "output_type": "display_data",
          "data": {
            "text/plain": [
              "<Figure size 640x480 with 2 Axes>"
            ],
            "image/png": "[encoded data removed]"
          },
          "metadata": {}
        }
      ]
    }
  ]
}