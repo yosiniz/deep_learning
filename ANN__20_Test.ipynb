{
  "nbformat": 4,
  "nbformat_minor": 0,
  "metadata": {
    "colab": {
      "provenance": []
    },
    "kernelspec": {
      "name": "python3",
      "display_name": "Python 3"
    },
    "language_info": {
      "name": "python"
    }
  },
  "cells": [
    {
      "cell_type": "code",
      "execution_count": 2,
      "metadata": {
        "colab": {
          "base_uri": "https://localhost:8080/"
        },
        "id": "p-cr5ifMSgGL",
        "outputId": "574654fe-e3fc-40ed-bd1f-28410a08118e"
      },
      "outputs": [
        {
          "output_type": "stream",
          "name": "stdout",
          "text": [
            "Mounted at /gdrive\n"
          ]
        }
      ],
      "source": [
        "from google.colab import drive\n",
        "drive.mount('/gdrive')\n"
      ]
    },
    {
      "cell_type": "code",
      "source": [
        "import numpy as np # linear algebra\n",
        "import pandas as pd # data processing, CSV file I/O (e.g. pd.read_csv)\n",
        "import matplotlib.pyplot as plt\n",
        "import seaborn as sns\n",
        "import glob\n",
        "import cv2\n",
        "import os\n"
      ],
      "metadata": {
        "id": "cZl4ssUDSiZE"
      },
      "execution_count": 1,
      "outputs": []
    },
    {
      "cell_type": "code",
      "source": [
        "print(os.listdir(\"/gdrive/My Drive/Kidney Cancer\"))"
      ],
      "metadata": {
        "colab": {
          "base_uri": "https://localhost:8080/"
        },
        "id": "T0xygZpZSo5A",
        "outputId": "ca40fd3e-a765-41df-93e8-65e5412df01b"
      },
      "execution_count": 3,
      "outputs": [
        {
          "output_type": "stream",
          "name": "stdout",
          "text": [
            "['Tumor', 'Normal']\n"
          ]
        }
      ]
    },
    {
      "cell_type": "code",
      "source": [
        "DATADIR = \"/gdrive/My Drive/Kidney Cancer\"\n",
        "\n",
        "CATEGORIES = [\"Normal\",\"Tumor\"]"
      ],
      "metadata": {
        "id": "BFi09A3hSqoh"
      },
      "execution_count": 4,
      "outputs": []
    },
    {
      "cell_type": "code",
      "source": [
        "IMG_SIZE = 100"
      ],
      "metadata": {
        "id": "lJdk7lB2Sr9v"
      },
      "execution_count": 5,
      "outputs": []
    },
    {
      "cell_type": "code",
      "source": [
        "all_data = []\n",
        "\n",
        "def create_all_data():\n",
        "    for category in CATEGORIES:\n",
        "        path = os.path.join(DATADIR, category)\n",
        "        class_num = CATEGORIES.index(category)\n",
        "        for img in os.listdir(path):\n",
        "            try:\n",
        "                img_array = cv2.imread(os.path.join(path, img), cv2.IMREAD_GRAYSCALE)\n",
        "                new_array = cv2.resize(img_array, (IMG_SIZE, IMG_SIZE))\n",
        "                all_data.append([new_array, class_num])\n",
        "            except Exception as e:\n",
        "                pass\n",
        "\n",
        "create_all_data()\n"
      ],
      "metadata": {
        "id": "M5lvBI7zSs_5"
      },
      "execution_count": 6,
      "outputs": []
    },
    {
      "cell_type": "code",
      "source": [
        "print(\"Toplam Görüntü Sayısı: \", len(all_data))"
      ],
      "metadata": {
        "colab": {
          "base_uri": "https://localhost:8080/"
        },
        "id": "E_hA7jMoSuQr",
        "outputId": "496d281b-1b26-4d69-9f14-4c186b037f30"
      },
      "execution_count": 7,
      "outputs": [
        {
          "output_type": "stream",
          "name": "stdout",
          "text": [
            "Toplam Görüntü Sayısı:  10000\n"
          ]
        }
      ]
    },
    {
      "cell_type": "code",
      "source": [
        "data = np.array(all_data)\n",
        "\n",
        "# Giriş ve çıkış verilerini ayırma\n",
        "X = data[:, 0]  # Giriş verileri (görüntüler)\n",
        "y = data[:, 1]"
      ],
      "metadata": {
        "colab": {
          "base_uri": "https://localhost:8080/"
        },
        "id": "Y4lDV4o6SvlZ",
        "outputId": "28860406-084c-48d8-ee65-4dcc839426ac"
      },
      "execution_count": 39,
      "outputs": [
        {
          "output_type": "stream",
          "name": "stderr",
          "text": [
            "<ipython-input-39-606bc6c549e7>:1: VisibleDeprecationWarning: Creating an ndarray from ragged nested sequences (which is a list-or-tuple of lists-or-tuples-or ndarrays with different lengths or shapes) is deprecated. If you meant to do this, you must specify 'dtype=object' when creating the ndarray.\n",
            "  data = np.array(all_data)\n"
          ]
        }
      ]
    },
    {
      "cell_type": "code",
      "source": [
        "from tensorflow.keras.utils import to_categorical\n",
        "# Giriş verilerini yeniden boyutlandırma\n",
        "X = np.array([i.reshape(IMG_SIZE, IMG_SIZE, 1) for i in X])\n",
        "\n",
        "# Sınıf etiketlerini kategorik hale getirme\n",
        "y = to_categorical(y, num_classes=2)"
      ],
      "metadata": {
        "id": "7-7Zbbr8oyHz"
      },
      "execution_count": 40,
      "outputs": []
    },
    {
      "cell_type": "code",
      "source": [
        "from sklearn.model_selection import train_test_split\n",
        "X_train, X_temp, y_train, y_temp = train_test_split(X, y, test_size=0.2, random_state=42)\n",
        "\n",
        "# Eğitim verisinin %10'unu validation için ayırma\n",
        "X_train, X_val, y_train, y_val = train_test_split(X_train, y_train, test_size=0.1, random_state=42)\n"
      ],
      "metadata": {
        "id": "XwSao1s-0WfS"
      },
      "execution_count": 41,
      "outputs": []
    },
    {
      "cell_type": "code",
      "source": [
        "x_train = np.array(X_train)\n",
        "x_test = np.array(X_temp)\n",
        "\n",
        "y_train = np.array(y_train)\n",
        "y_test = np.array(y_temp)\n",
        "\n",
        "x_val = np.array(X_val)\n",
        "y_val = np.array(y_val)"
      ],
      "metadata": {
        "id": "LlNqUkIMTl6_"
      },
      "execution_count": 42,
      "outputs": []
    },
    {
      "cell_type": "code",
      "source": [
        "print(X_train.shape)\n",
        "print(X_temp.shape)\n",
        "print(X_val.shape)\n",
        "\n",
        "print(y_train.shape)\n",
        "print(y_temp.shape)\n",
        "print(y_val.shape)"
      ],
      "metadata": {
        "colab": {
          "base_uri": "https://localhost:8080/"
        },
        "id": "vyYLxXtbTp3m",
        "outputId": "938b492e-18b2-422d-f196-9f5251aa784d"
      },
      "execution_count": 43,
      "outputs": [
        {
          "output_type": "stream",
          "name": "stdout",
          "text": [
            "(7200, 100, 100, 1)\n",
            "(2000, 100, 100, 1)\n",
            "(800, 100, 100, 1)\n",
            "(7200, 2)\n",
            "(2000, 2)\n",
            "(800, 2)\n"
          ]
        }
      ]
    },
    {
      "cell_type": "code",
      "source": [
        "from tensorflow import keras\n",
        "from tensorflow.keras import layers\n",
        "# Model oluşturma, derleme ve eğitim\n",
        "model = keras.Sequential([\n",
        "    layers.Conv2D(32, (3, 3), activation='relu', input_shape=(IMG_SIZE, IMG_SIZE, 1)),\n",
        "    layers.MaxPooling2D((2, 2)),\n",
        "    layers.Flatten(),\n",
        "    layers.Dense(128, activation='relu'),\n",
        "    layers.Dense(2, activation='softmax')  # 2 sınıf için softmax aktivasyonu\n",
        "])\n",
        "\n",
        "model.compile(optimizer='adam', loss='categorical_crossentropy', metrics=['accuracy'])\n",
        "model.fit(X_train, y_train, epochs=10, validation_data=(X_val, y_val))"
      ],
      "metadata": {
        "colab": {
          "base_uri": "https://localhost:8080/"
        },
        "id": "SFDESE3HThsz",
        "outputId": "5182c198-d92f-4a7e-c9ba-f7eac1542aec"
      },
      "execution_count": 44,
      "outputs": [
        {
          "output_type": "stream",
          "name": "stdout",
          "text": [
            "Epoch 1/10\n",
            "225/225 [==============================] - 97s 427ms/step - loss: 13.7082 - accuracy: 0.9307 - val_loss: 0.0306 - val_accuracy: 0.9975\n",
            "Epoch 2/10\n",
            "225/225 [==============================] - 88s 391ms/step - loss: 0.1300 - accuracy: 0.9883 - val_loss: 0.0867 - val_accuracy: 0.9925\n",
            "Epoch 3/10\n",
            "225/225 [==============================] - 87s 389ms/step - loss: 0.0423 - accuracy: 0.9965 - val_loss: 5.1932e-04 - val_accuracy: 1.0000\n",
            "Epoch 4/10\n",
            "225/225 [==============================] - 90s 400ms/step - loss: 4.4703e-05 - accuracy: 1.0000 - val_loss: 8.5341e-05 - val_accuracy: 1.0000\n",
            "Epoch 5/10\n",
            "225/225 [==============================] - 87s 386ms/step - loss: 4.3607e-06 - accuracy: 1.0000 - val_loss: 1.3130e-04 - val_accuracy: 1.0000\n",
            "Epoch 6/10\n",
            "225/225 [==============================] - 87s 387ms/step - loss: 2.7370e-06 - accuracy: 1.0000 - val_loss: 1.7353e-04 - val_accuracy: 1.0000\n",
            "Epoch 7/10\n",
            "225/225 [==============================] - 90s 401ms/step - loss: 1.9713e-06 - accuracy: 1.0000 - val_loss: 2.1395e-04 - val_accuracy: 1.0000\n",
            "Epoch 8/10\n",
            "225/225 [==============================] - 87s 386ms/step - loss: 1.5318e-06 - accuracy: 1.0000 - val_loss: 2.5697e-04 - val_accuracy: 1.0000\n",
            "Epoch 9/10\n",
            "225/225 [==============================] - 87s 386ms/step - loss: 1.2625e-06 - accuracy: 1.0000 - val_loss: 2.9332e-04 - val_accuracy: 1.0000\n",
            "Epoch 10/10\n",
            "225/225 [==============================] - 90s 402ms/step - loss: 1.0710e-06 - accuracy: 1.0000 - val_loss: 3.4073e-04 - val_accuracy: 1.0000\n"
          ]
        },
        {
          "output_type": "execute_result",
          "data": {
            "text/plain": [
              "<keras.src.callbacks.History at 0x78e2bb72fdf0>"
            ]
          },
          "metadata": {},
          "execution_count": 44
        }
      ]
    },
    {
      "cell_type": "code",
      "source": [
        "from sklearn.metrics import accuracy_score, precision_score, recall_score, f1_score, confusion_matrix, classification_report\n",
        "\n",
        "# Test verileri üzerinde tahmin yapma\n",
        "y_pred = model.predict(X_temp)\n",
        "y_pred_classes = np.argmax(y_pred, axis=1)\n",
        "y_true = np.argmax(y_test, axis=1)\n",
        "\n",
        "# Accuracy\n",
        "accuracy = accuracy_score(y_true, y_pred_classes)\n",
        "print(f'Accuracy: {accuracy}')\n",
        "\n",
        "# Precision\n",
        "precision = precision_score(y_true, y_pred_classes)\n",
        "print(f'Precision: {precision}')\n",
        "\n",
        "# Recall\n",
        "recall = recall_score(y_true, y_pred_classes)\n",
        "print(f'Recall: {recall}')\n",
        "\n",
        "# F1 Score\n",
        "f1 = f1_score(y_true, y_pred_classes)\n",
        "print(f'F1 Score: {f1}')\n",
        "\n",
        "# Karmaşıklık Matrisi\n",
        "conf_matrix = confusion_matrix(y_true, y_pred_classes)\n",
        "print(f'Confusion Matrix:\\n{conf_matrix}')\n",
        "\n",
        "# Classification Report\n",
        "class_report = classification_report(y_true, y_pred_classes)\n",
        "print(f'Classification Report:\\n{class_report}')\n"
      ],
      "metadata": {
        "colab": {
          "base_uri": "https://localhost:8080/"
        },
        "id": "WDpb9IpWuJC6",
        "outputId": "54045c67-c1f8-400f-b37d-4e125bab133c"
      },
      "execution_count": 45,
      "outputs": [
        {
          "output_type": "stream",
          "name": "stdout",
          "text": [
            "63/63 [==============================] - 6s 94ms/step\n",
            "Accuracy: 0.9995\n",
            "Precision: 1.0\n",
            "Recall: 0.9989878542510121\n",
            "F1 Score: 0.9994936708860759\n",
            "Confusion Matrix:\n",
            "[[1012    0]\n",
            " [   1  987]]\n",
            "Classification Report:\n",
            "              precision    recall  f1-score   support\n",
            "\n",
            "           0       1.00      1.00      1.00      1012\n",
            "           1       1.00      1.00      1.00       988\n",
            "\n",
            "    accuracy                           1.00      2000\n",
            "   macro avg       1.00      1.00      1.00      2000\n",
            "weighted avg       1.00      1.00      1.00      2000\n",
            "\n"
          ]
        }
      ]
    },
    {
      "cell_type": "code",
      "source": [
        "import matplotlib.pyplot as plt\n",
        "import seaborn as sns\n",
        "\n",
        "# Confusion Matrix'i heatmap olarak görselleştirme\n",
        "plt.figure(figsize=(8, 6))\n",
        "sns.heatmap(conf_matrix, annot=True, fmt='d', cmap='Blues', xticklabels=['Normal', 'Tumor'], yticklabels=['Normal', 'Tumor'])\n",
        "plt.title('Confusion Matrix')\n",
        "plt.xlabel('Predicted')\n",
        "plt.ylabel('True')\n",
        "plt.show()\n"
      ],
      "metadata": {
        "colab": {
          "base_uri": "https://localhost:8080/",
          "height": 564
        },
        "id": "W67LnZmevRxV",
        "outputId": "9abe9022-c5cc-450d-91a8-ab8bb2132b5f"
      },
      "execution_count": 46,
      "outputs": [
        {
          "output_type": "display_data",
          "data": {
            "text/plain": [
              "<Figure size 800x600 with 2 Axes>"
            ],
            "image/png": "[encoded data removed]"
          },
          "metadata": {}
        }
      ]
    }
  ]
}