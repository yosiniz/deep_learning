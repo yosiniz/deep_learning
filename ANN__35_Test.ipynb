{
  "nbformat": 4,
  "nbformat_minor": 0,
  "metadata": {
    "colab": {
      "provenance": []
    },
    "kernelspec": {
      "name": "python3",
      "display_name": "Python 3"
    },
    "language_info": {
      "name": "python"
    }
  },
  "cells": [
    {
      "cell_type": "code",
      "execution_count": 1,
      "metadata": {
        "colab": {
          "base_uri": "https://localhost:8080/"
        },
        "id": "JVtC80ckw1Im",
        "outputId": "968155b7-0247-469f-96da-14cacc18fc63"
      },
      "outputs": [
        {
          "output_type": "stream",
          "name": "stdout",
          "text": [
            "Mounted at /gdrive\n"
          ]
        }
      ],
      "source": [
        "from google.colab import drive\n",
        "drive.mount('/gdrive')\n"
      ]
    },
    {
      "cell_type": "code",
      "source": [
        "import numpy as np # linear algebra\n",
        "import pandas as pd # data processing, CSV file I/O (e.g. pd.read_csv)\n",
        "import matplotlib.pyplot as plt\n",
        "import seaborn as sns\n",
        "import glob\n",
        "import cv2\n",
        "import os\n"
      ],
      "metadata": {
        "id": "uTl84Bkcw2kv"
      },
      "execution_count": 2,
      "outputs": []
    },
    {
      "cell_type": "code",
      "source": [
        "print(os.listdir(\"/gdrive/My Drive/Kidney Cancer\"))"
      ],
      "metadata": {
        "colab": {
          "base_uri": "https://localhost:8080/"
        },
        "id": "GDs0Im3rw3ik",
        "outputId": "2129c138-cad3-4755-8cc5-3a4a1439b3ea"
      },
      "execution_count": 3,
      "outputs": [
        {
          "output_type": "stream",
          "name": "stdout",
          "text": [
            "['Tumor', 'Normal']\n"
          ]
        }
      ]
    },
    {
      "cell_type": "code",
      "source": [
        "DATADIR = \"/gdrive/My Drive/Kidney Cancer\"\n",
        "\n",
        "CATEGORIES = [\"Normal\",\"Tumor\"]"
      ],
      "metadata": {
        "id": "9XJ4pvHEw6H-"
      },
      "execution_count": 4,
      "outputs": []
    },
    {
      "cell_type": "code",
      "source": [
        "IMG_SIZE = 100"
      ],
      "metadata": {
        "id": "ZuWHnVrTw7aD"
      },
      "execution_count": 5,
      "outputs": []
    },
    {
      "cell_type": "code",
      "source": [
        "all_data = []\n",
        "\n",
        "def create_all_data():\n",
        "    for category in CATEGORIES:\n",
        "        path = os.path.join(DATADIR, category)\n",
        "        class_num = CATEGORIES.index(category)\n",
        "        for img in os.listdir(path):\n",
        "            try:\n",
        "                img_array = cv2.imread(os.path.join(path, img), cv2.IMREAD_GRAYSCALE)\n",
        "                new_array = cv2.resize(img_array, (IMG_SIZE, IMG_SIZE))\n",
        "                all_data.append([new_array, class_num])\n",
        "            except Exception as e:\n",
        "                pass\n",
        "\n",
        "create_all_data()\n"
      ],
      "metadata": {
        "id": "IG2Y-Dpzw8bi"
      },
      "execution_count": 6,
      "outputs": []
    },
    {
      "cell_type": "code",
      "source": [
        "print(\"Toplam Görüntü Sayısı: \", len(all_data))"
      ],
      "metadata": {
        "colab": {
          "base_uri": "https://localhost:8080/"
        },
        "id": "Dpa2PX94w9xf",
        "outputId": "357f6924-97ee-4422-f279-e1fe311663c8"
      },
      "execution_count": 7,
      "outputs": [
        {
          "output_type": "stream",
          "name": "stdout",
          "text": [
            "Toplam Görüntü Sayısı:  10000\n"
          ]
        }
      ]
    },
    {
      "cell_type": "code",
      "source": [
        "data = np.array(all_data)\n",
        "\n",
        "# Giriş ve çıkış verilerini ayırma\n",
        "X = data[:, 0]  # Giriş verileri (görüntüler)\n",
        "y = data[:, 1]"
      ],
      "metadata": {
        "colab": {
          "base_uri": "https://localhost:8080/"
        },
        "id": "RCv8d1Etw_E2",
        "outputId": "e3199f97-e4db-424f-bcd7-6b73d06ebe9a"
      },
      "execution_count": 8,
      "outputs": [
        {
          "output_type": "stream",
          "name": "stderr",
          "text": [
            "<ipython-input-8-606bc6c549e7>:1: VisibleDeprecationWarning: Creating an ndarray from ragged nested sequences (which is a list-or-tuple of lists-or-tuples-or ndarrays with different lengths or shapes) is deprecated. If you meant to do this, you must specify 'dtype=object' when creating the ndarray.\n",
            "  data = np.array(all_data)\n"
          ]
        }
      ]
    },
    {
      "cell_type": "code",
      "source": [
        "from tensorflow.keras.utils import to_categorical\n",
        "# Giriş verilerini yeniden boyutlandırma\n",
        "X = np.array([i.reshape(IMG_SIZE, IMG_SIZE, 1) for i in X])\n",
        "\n",
        "# Sınıf etiketlerini kategorik hale getirme\n",
        "y = to_categorical(y, num_classes=2)"
      ],
      "metadata": {
        "id": "FzM6vbt3w_-I"
      },
      "execution_count": 9,
      "outputs": []
    },
    {
      "cell_type": "code",
      "source": [
        "from sklearn.model_selection import train_test_split\n",
        "X_train, X_temp, y_train, y_temp = train_test_split(X, y, test_size=0.35, random_state=42)\n",
        "\n",
        "# Eğitim verisinin %10'unu validation için ayırma\n",
        "X_train, X_val, y_train, y_val = train_test_split(X_train, y_train, test_size=0.1, random_state=42)\n"
      ],
      "metadata": {
        "id": "U4vOW4KOym0X"
      },
      "execution_count": 12,
      "outputs": []
    },
    {
      "cell_type": "code",
      "source": [
        "x_train = np.array(X_train)\n",
        "x_test = np.array(X_temp)\n",
        "\n",
        "y_train = np.array(y_train)\n",
        "y_test = np.array(y_temp)\n",
        "\n",
        "x_val = np.array(X_val)\n",
        "y_val = np.array(y_val)"
      ],
      "metadata": {
        "id": "cIsOkWPBxBih"
      },
      "execution_count": 13,
      "outputs": []
    },
    {
      "cell_type": "code",
      "source": [
        "print(X_train.shape)\n",
        "print(X_temp.shape)\n",
        "print(X_val.shape)\n",
        "\n",
        "print(y_train.shape)\n",
        "print(y_temp.shape)\n",
        "print(y_val.shape)"
      ],
      "metadata": {
        "colab": {
          "base_uri": "https://localhost:8080/"
        },
        "id": "XiGID_-vxCim",
        "outputId": "02b7c206-7b2f-4071-bd41-6d2a17f61ea9"
      },
      "execution_count": 14,
      "outputs": [
        {
          "output_type": "stream",
          "name": "stdout",
          "text": [
            "(5850, 100, 100, 1)\n",
            "(3500, 100, 100, 1)\n",
            "(650, 100, 100, 1)\n",
            "(5850, 2)\n",
            "(3500, 2)\n",
            "(650, 2)\n"
          ]
        }
      ]
    },
    {
      "cell_type": "code",
      "source": [
        "from tensorflow import keras\n",
        "from tensorflow.keras import layers\n",
        "\n",
        "# Model oluşturma, derleme ve eğitim\n",
        "model = keras.Sequential([\n",
        "    layers.Conv2D(32, (3, 3), activation='relu', input_shape=(IMG_SIZE, IMG_SIZE, 1)),\n",
        "    layers.MaxPooling2D((2, 2)),\n",
        "    layers.Flatten(),\n",
        "    layers.Dense(128, activation='relu'),\n",
        "    layers.Dense(2, activation='softmax')  # 2 sınıf için softmax aktivasyonu\n",
        "])\n",
        "\n",
        "model.compile(optimizer='adam', loss='categorical_crossentropy', metrics=['accuracy'])\n",
        "model.fit(X_train, y_train, epochs=10, validation_data=(X_val, y_val))"
      ],
      "metadata": {
        "colab": {
          "base_uri": "https://localhost:8080/"
        },
        "id": "VKsgjNlXxMdZ",
        "outputId": "65e72117-f274-4eb2-e8bb-44b98700b9c3"
      },
      "execution_count": 17,
      "outputs": [
        {
          "output_type": "stream",
          "name": "stdout",
          "text": [
            "Epoch 1/10\n",
            "183/183 [==============================] - 68s 366ms/step - loss: 15.0560 - accuracy: 0.9385 - val_loss: 0.5805 - val_accuracy: 0.9969\n",
            "Epoch 2/10\n",
            "183/183 [==============================] - 59s 325ms/step - loss: 1.4562 - accuracy: 0.9860 - val_loss: 0.3521 - val_accuracy: 0.9892\n",
            "Epoch 3/10\n",
            "183/183 [==============================] - 58s 317ms/step - loss: 0.1362 - accuracy: 0.9971 - val_loss: 0.0500 - val_accuracy: 0.9985\n",
            "Epoch 4/10\n",
            "183/183 [==============================] - 72s 393ms/step - loss: 0.0533 - accuracy: 0.9988 - val_loss: 0.1294 - val_accuracy: 0.9985\n",
            "Epoch 5/10\n",
            "183/183 [==============================] - 59s 324ms/step - loss: 0.0253 - accuracy: 0.9991 - val_loss: 0.2411 - val_accuracy: 0.9923\n",
            "Epoch 6/10\n",
            "183/183 [==============================] - 66s 363ms/step - loss: 0.2272 - accuracy: 0.9973 - val_loss: 0.0000e+00 - val_accuracy: 1.0000\n",
            "Epoch 7/10\n",
            "183/183 [==============================] - 63s 344ms/step - loss: 0.2068 - accuracy: 0.9968 - val_loss: 3.4688e-04 - val_accuracy: 1.0000\n",
            "Epoch 8/10\n",
            "183/183 [==============================] - 61s 335ms/step - loss: 0.0563 - accuracy: 0.9988 - val_loss: 0.1185 - val_accuracy: 0.9985\n",
            "Epoch 9/10\n",
            "183/183 [==============================] - 61s 331ms/step - loss: 0.2720 - accuracy: 0.9962 - val_loss: 0.2850 - val_accuracy: 0.9954\n",
            "Epoch 10/10\n",
            "183/183 [==============================] - 60s 330ms/step - loss: 0.0466 - accuracy: 0.9985 - val_loss: 0.1612 - val_accuracy: 0.9923\n"
          ]
        },
        {
          "output_type": "execute_result",
          "data": {
            "text/plain": [
              "<keras.src.callbacks.History at 0x7e4c8843a2f0>"
            ]
          },
          "metadata": {},
          "execution_count": 17
        }
      ]
    },
    {
      "cell_type": "code",
      "source": [
        "from sklearn.metrics import accuracy_score, precision_score, recall_score, f1_score, confusion_matrix, classification_report\n",
        "\n",
        "# Test verileri üzerinde tahmin yapma\n",
        "y_pred = model.predict(X_temp)\n",
        "y_pred_classes = np.argmax(y_pred, axis=1)\n",
        "y_true = np.argmax(y_test, axis=1)\n",
        "\n",
        "# Accuracy\n",
        "accuracy = accuracy_score(y_true, y_pred_classes)\n",
        "print(f'Accuracy: {accuracy}')\n",
        "\n",
        "# Precision\n",
        "precision = precision_score(y_true, y_pred_classes)\n",
        "print(f'Precision: {precision}')\n",
        "\n",
        "# Recall\n",
        "recall = recall_score(y_true, y_pred_classes)\n",
        "print(f'Recall: {recall}')\n",
        "\n",
        "# F1 Score\n",
        "f1 = f1_score(y_true, y_pred_classes)\n",
        "print(f'F1 Score: {f1}')\n",
        "\n",
        "# Karmaşıklık Matrisi\n",
        "conf_matrix = confusion_matrix(y_true, y_pred_classes)\n",
        "print(f'Confusion Matrix:\\n{conf_matrix}')\n",
        "\n",
        "# Classification Report\n",
        "class_report = classification_report(y_true, y_pred_classes)\n",
        "print(f'Classification Report:\\n{class_report}')\n"
      ],
      "metadata": {
        "colab": {
          "base_uri": "https://localhost:8080/"
        },
        "id": "Y-UMwLVI0mx-",
        "outputId": "7782ddc5-ef68-4605-c560-4a18d501f86f"
      },
      "execution_count": 18,
      "outputs": [
        {
          "output_type": "stream",
          "name": "stdout",
          "text": [
            "110/110 [==============================] - 5s 47ms/step\n",
            "Accuracy: 0.992\n",
            "Precision: 0.9867205542725174\n",
            "Recall: 0.9970828471411902\n",
            "F1 Score: 0.991874637260592\n",
            "Confusion Matrix:\n",
            "[[1763   23]\n",
            " [   5 1709]]\n",
            "Classification Report:\n",
            "              precision    recall  f1-score   support\n",
            "\n",
            "           0       1.00      0.99      0.99      1786\n",
            "           1       0.99      1.00      0.99      1714\n",
            "\n",
            "    accuracy                           0.99      3500\n",
            "   macro avg       0.99      0.99      0.99      3500\n",
            "weighted avg       0.99      0.99      0.99      3500\n",
            "\n"
          ]
        }
      ]
    },
    {
      "cell_type": "code",
      "source": [
        "import matplotlib.pyplot as plt\n",
        "import seaborn as sns\n",
        "\n",
        "# Confusion Matrix'i heatmap olarak görselleştirme\n",
        "plt.figure(figsize=(8, 6))\n",
        "sns.heatmap(conf_matrix, annot=True, fmt='d', cmap='Blues', xticklabels=['Normal', 'Tumor'], yticklabels=['Normal', 'Tumor'])\n",
        "plt.title('Confusion Matrix')\n",
        "plt.xlabel('Predicted')\n",
        "plt.ylabel('True')\n",
        "plt.show()\n"
      ],
      "metadata": {
        "colab": {
          "base_uri": "https://localhost:8080/",
          "height": 564
        },
        "id": "Xiclyza-0oNB",
        "outputId": "e00ca318-1983-41bb-ccb4-6674c441ee6e"
      },
      "execution_count": 19,
      "outputs": [
        {
          "output_type": "display_data",
          "data": {
            "text/plain": [
              "<Figure size 800x600 with 2 Axes>"
            ],
            "image/png": "[encoded data removed]"
          },
          "metadata": {}
        }
      ]
    }
  ]
}